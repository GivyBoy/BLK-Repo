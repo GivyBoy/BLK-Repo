{
 "cells": [
  {
   "cell_type": "markdown",
   "id": "0558ed17",
   "metadata": {},
   "source": [
    "# Fundamentals of Python\n",
    "\n",
    "This notebook should serve as a good starting point for persons who want to get acquainted with Python and are in the Finance space\n",
    "\n",
    "Keyboard Shortcut: use `ctrl + shift` to run a cell and `ctrl + /` to create a single line comment \n",
    "\n",
    "In order to return some output to the console, use the `print()` function to do so. We will talk more about it later on"
   ]
  },
  {
   "cell_type": "code",
   "execution_count": 5,
   "id": "0139838e",
   "metadata": {},
   "outputs": [],
   "source": [
    "# This is a 'comment' whenever a cell is run, this will be ignored. Use these to explain what your code is doing, in order to ensure that persons who read your code aren't confused\n",
    "\n",
    "\"\"\"\n",
    "Triple (doesn't matter if it's double or single) quotes create multi-line comment\n",
    "\n",
    "If you know your comment is gonna be long, use triple quotes instead of the '#' sign. Let's rewrite the comment above:\n",
    "\n",
    "This is a 'comment' (the ) whenever a cell is run, this will be ignored. \n",
    "Use these to explain what your code is doing, in order to ensure that persons who read your code aren't confused\n",
    "\n",
    "\"\"\"\n",
    "\n",
    "# NOTE - Python does not have a built-in mechanism for multi-line comments\n",
    "# The triple line 'comments' noted above are called docstrings and are just a workaround\n",
    "# They will produce an output if they are the only occupants of a cell\n",
    "# Run this cell with the expression below commented and you will get and output\n",
    "# If it isn't commented you will not get an output\n",
    "\n",
    "x = 5\n"
   ]
  },
  {
   "cell_type": "markdown",
   "id": "b6793dbf",
   "metadata": {},
   "source": [
    "## Mathematical Operations\n",
    "\n",
    "Python is similar to excel (or any calculator for that matter) in how it carries calculations"
   ]
  },
  {
   "cell_type": "code",
   "execution_count": 6,
   "id": "22f7cc4c",
   "metadata": {},
   "outputs": [
    {
     "name": "stdout",
     "output_type": "stream",
     "text": [
      "10\n",
      "0\n",
      "25\n",
      "1.0\n"
     ]
    }
   ],
   "source": [
    "# addition, subtraction, multiplication and division all work the same \n",
    "\n",
    "print(5+5)\n",
    "print(5-5)\n",
    "print(5*5)\n",
    "print(5/5)"
   ]
  },
  {
   "cell_type": "code",
   "execution_count": 23,
   "id": "7fd1e3dd",
   "metadata": {},
   "outputs": [
    {
     "data": {
      "text/plain": [
       "2.23606797749979"
      ]
     },
     "execution_count": 23,
     "metadata": {},
     "output_type": "execute_result"
    }
   ],
   "source": [
    "\n",
    "\"\"\"\n",
    "Note that only the last statement is returned to the console. \n",
    "\n",
    "If you do not use print statements, that is exactly what will happen. \n",
    "\n",
    "If you wanted to return value for all the operations, you would have to wrap all the statements in print statements like the cell above \n",
    "\"\"\"\n",
    "\n",
    "# In addition to the normal operations, Python (and other programming languages) have additional ones:\n",
    "\n",
    "# integer division\n",
    "\n",
    "5 // 2\n",
    "# The output would be 2. Why? 5 divided by 2 gives 2, with a remainder of 1. This operation returns the 2\n",
    "# In summary, it returns how many time 5 can be divided by 2 without leaving a remainder\n",
    "\n",
    "# modulus \n",
    "\n",
    "5 % 2\n",
    "# the output would be 1. It returns the remainder when 5 is divided by 2\n",
    "\n",
    "# exponents\n",
    "\n",
    "5 ** 2 \n",
    "# this equal to 5 squared\n",
    "\n",
    "5 ** 0.5 \n",
    "# this is equal to the square root of 5\n"
   ]
  },
  {
   "cell_type": "code",
   "execution_count": 11,
   "id": "cc571d05",
   "metadata": {},
   "outputs": [
    {
     "name": "stdout",
     "output_type": "stream",
     "text": [
      "5 + 5 = 10\n",
      "5 + 5 = 10\n",
      "5 + 5 = 10\n"
     ]
    }
   ],
   "source": [
    "\"\"\"\n",
    "\n",
    "They work as intended, but suppose you should practice having more comprehensive print statements. \n",
    "\n",
    "There are multiple ways to do this. Examples are below:\n",
    "\n",
    "\"\"\"\n",
    "\n",
    "print(\"5 + 5 =\", 5+5)\n",
    "print(\"5 + 5 = {}\".format(5+5))\n",
    "\n",
    "# My favorite example is below. They are called f-strings. They have a lot of functionality which you'll see later on\n",
    "# In addition to the functionality, they offer more readable code\n",
    "\n",
    "print(f\"5 + 5 = {5+5}\")\n",
    "\n",
    "\n",
    "\"\"\"\n",
    "Note that whenever we typed 'normal' output in the print statement, we used the double (or single) quotes. \n",
    "These are called string literals. We will explore more in the next section\n",
    "\n",
    "\"\"\""
   ]
  },
  {
   "cell_type": "markdown",
   "id": "60cfd482",
   "metadata": {},
   "source": [
    "# Data Types\n",
    "\n",
    "Since we have some useful experience in Python, let's look at the main data types:\n",
    "\n",
    "If you want to check the data type of a variable (we will explore these in the next section), use this combination: `print(type(variable_name))`"
   ]
  },
  {
   "cell_type": "code",
   "execution_count": 25,
   "id": "0bb63a8f",
   "metadata": {},
   "outputs": [
    {
     "name": "stdout",
     "output_type": "stream",
     "text": [
      "<class 'str'>\n"
     ]
    }
   ],
   "source": [
    "# Strings - they are enclosed in double (or single) quotes\n",
    "\n",
    "\"This is a string\"\n",
    "'This is also a string'\n",
    "\"\"\"This can also be used as a string\"\"\"\n",
    "\"5\" # This is a string\n",
    "'5+5' # This is also a string\n",
    "\n",
    "print(type('5+5'))\n",
    "\n",
    "# the 'str' means string"
   ]
  },
  {
   "cell_type": "code",
   "execution_count": 27,
   "id": "45e22803",
   "metadata": {},
   "outputs": [
    {
     "name": "stdout",
     "output_type": "stream",
     "text": [
      "<class 'int'>\n"
     ]
    }
   ],
   "source": [
    "# Integers - in this programming world, this refers to all whole numbers (even 0)\n",
    "\n",
    "2\n",
    "323\n",
    "544\n",
    "675\n",
    "\n",
    "# these are all integers, represented by 'int'\n",
    "\n",
    "print(type(123432143))"
   ]
  },
  {
   "cell_type": "code",
   "execution_count": 29,
   "id": "c2b565c3",
   "metadata": {},
   "outputs": [
    {
     "name": "stdout",
     "output_type": "stream",
     "text": [
      "<class 'float'>\n",
      "<class 'float'>\n"
     ]
    }
   ],
   "source": [
    "# Floats - all decimal values \n",
    "\n",
    "23.9\n",
    "234.00000001\n",
    "2.09567899873\n",
    "\n",
    "print(type(1.0))\n",
    "print(type(0.0))"
   ]
  },
  {
   "cell_type": "code",
   "execution_count": 31,
   "id": "ecd7d011",
   "metadata": {},
   "outputs": [
    {
     "name": "stdout",
     "output_type": "stream",
     "text": [
      "<class 'bool'>\n",
      "<class 'bool'>\n"
     ]
    }
   ],
   "source": [
    "# Boolean - this is unique, in that it only has two values: True and False\n",
    "\n",
    "print(type(True))\n",
    "print(type(False))\n",
    "\n",
    "# represented by 'bool'"
   ]
  },
  {
   "cell_type": "markdown",
   "id": "d74040d4",
   "metadata": {},
   "source": [
    "# Variable Declaration \n",
    "\n",
    "Now that we have familarized ourselves with the main data types, lets look at how to store them. A variable stores a data type for use later on. It is important to note a few things:\n",
    "\n",
    "1. Variable names can only begin with letters or underscores \n",
    "2. Variable names can only consist of letters, underscores, and numbers\n",
    "3. Variable names are case sensitive - `this_variable` is not the same as `This_variable`\n",
    "\n",
    "You assign some value/data to a variable using the assignment operator `=`. Contrary to what you might think, this does not mean `equals`. It means that you're assigning a value to a variable. The operator which checks if a value is `equal/equivalent to` another value is the `==` operator. We will explore more about this operator soon"
   ]
  },
  {
   "cell_type": "code",
   "execution_count": 5,
   "id": "2f5467b9",
   "metadata": {},
   "outputs": [],
   "source": [
    "first_variable = 25 \n",
    "second_variable = 3.14159\n",
    "string = 'Hello'\n",
    "name = \"John\"\n",
    "boolean = True\n",
    "something_cool = f\"{string}, {name}!\" # this is a cool application of f-strings"
   ]
  },
  {
   "cell_type": "code",
   "execution_count": 7,
   "id": "fa2f49f7",
   "metadata": {},
   "outputs": [
    {
     "name": "stdout",
     "output_type": "stream",
     "text": [
      "25\n",
      "3.14159\n",
      "28.14159\n",
      "Hello\n",
      "True\n",
      "Hello, John!\n"
     ]
    }
   ],
   "source": [
    "print(first_variable)\n",
    "print(second_variable)\n",
    "print(first_variable + second_variable)\n",
    "print(string)\n",
    "print(boolean)\n",
    "print(something_cool)"
   ]
  },
  {
   "cell_type": "markdown",
   "id": "0701b33d",
   "metadata": {},
   "source": [
    "# Comparisons\n",
    "\n",
    "In Python, there are many ways to compare similar data types. You have greater than `>`, greater than or equal to `>=`, less than `<`, less than or equal to `<=`, equal to `==`, and not equal to `!=`. These comparisons return a boolean value: `True` or `False`"
   ]
  },
  {
   "cell_type": "code",
   "execution_count": 11,
   "id": "994d608e",
   "metadata": {},
   "outputs": [
    {
     "name": "stdout",
     "output_type": "stream",
     "text": [
      "True\n",
      "False\n",
      "True\n",
      "True\n"
     ]
    }
   ],
   "source": [
    "print(True == True) # True\n",
    "print(1 >= 2) # False\n",
    "print(1 != 2) # True\n",
    "print(\"hello\" == \"hello\") # True"
   ]
  },
  {
   "cell_type": "code",
   "execution_count": 17,
   "id": "b2d6c0b6",
   "metadata": {},
   "outputs": [
    {
     "ename": "TypeError",
     "evalue": "'>' not supported between instances of 'str' and 'int'",
     "output_type": "error",
     "traceback": [
      "\u001b[1;31m---------------------------------------------------------------------------\u001b[0m",
      "\u001b[1;31mTypeError\u001b[0m                                 Traceback (most recent call last)",
      "\u001b[1;32m~\\AppData\\Local\\Temp/ipykernel_14756/1281746318.py\u001b[0m in \u001b[0;36m<module>\u001b[1;34m\u001b[0m\n\u001b[0;32m      1\u001b[0m \u001b[0minteger\u001b[0m \u001b[1;33m=\u001b[0m \u001b[1;36m5\u001b[0m\u001b[1;33m\u001b[0m\u001b[1;33m\u001b[0m\u001b[0m\n\u001b[0;32m      2\u001b[0m \u001b[0mstring\u001b[0m \u001b[1;33m=\u001b[0m \u001b[1;34m'hello'\u001b[0m\u001b[1;33m\u001b[0m\u001b[1;33m\u001b[0m\u001b[0m\n\u001b[1;32m----> 3\u001b[1;33m \u001b[0mresult\u001b[0m \u001b[1;33m=\u001b[0m \u001b[0mstring\u001b[0m \u001b[1;33m>\u001b[0m \u001b[0minteger\u001b[0m\u001b[1;33m\u001b[0m\u001b[1;33m\u001b[0m\u001b[0m\n\u001b[0m\u001b[0;32m      4\u001b[0m \u001b[1;33m\u001b[0m\u001b[0m\n\u001b[0;32m      5\u001b[0m \u001b[0mprint\u001b[0m\u001b[1;33m(\u001b[0m\u001b[0mresult\u001b[0m\u001b[1;33m)\u001b[0m\u001b[1;33m\u001b[0m\u001b[1;33m\u001b[0m\u001b[0m\n",
      "\u001b[1;31mTypeError\u001b[0m: '>' not supported between instances of 'str' and 'int'"
     ]
    }
   ],
   "source": [
    "integer = 5\n",
    "string = 'hello'\n",
    "result = string > integer\n",
    "\n",
    "print(result)\n",
    "\n",
    "# comparisons must be between the values of the same data type, or else you will get an error"
   ]
  },
  {
   "cell_type": "code",
   "execution_count": 16,
   "id": "609dad26",
   "metadata": {},
   "outputs": [
    {
     "name": "stdout",
     "output_type": "stream",
     "text": [
      "True\n"
     ]
    }
   ],
   "source": [
    "float_variable = 5.5\n",
    "\n",
    "result2 = float_variable > integer\n",
    "\n",
    "print(result2)"
   ]
  },
  {
   "cell_type": "code",
   "execution_count": null,
   "id": "cfe5ffee",
   "metadata": {},
   "outputs": [],
   "source": []
  }
 ],
 "metadata": {
  "kernelspec": {
   "display_name": "Python 3 (ipykernel)",
   "language": "python",
   "name": "python3"
  },
  "language_info": {
   "codemirror_mode": {
    "name": "ipython",
    "version": 3
   },
   "file_extension": ".py",
   "mimetype": "text/x-python",
   "name": "python",
   "nbconvert_exporter": "python",
   "pygments_lexer": "ipython3",
   "version": "3.9.12"
  }
 },
 "nbformat": 4,
 "nbformat_minor": 5
}
